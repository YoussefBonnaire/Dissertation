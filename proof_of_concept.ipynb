{
 "cells": [
  {
   "cell_type": "markdown",
   "metadata": {
    "pycharm": {
     "name": "#%% md\n"
    }
   },
   "source": [
    "# Exploration of the dataset"
   ]
  },
  {
   "cell_type": "markdown",
   "metadata": {
    "pycharm": {
     "name": "#%% md\n"
    }
   },
   "source": [
    " ## Imports"
   ]
  },
  {
   "cell_type": "code",
   "execution_count": 1,
   "metadata": {
    "ExecuteTime": {
     "end_time": "2022-05-31T12:31:21.679096Z",
     "start_time": "2022-05-31T12:31:21.668098Z"
    },
    "pycharm": {
     "name": "#%%\n"
    }
   },
   "outputs": [],
   "source": [
    "import cv2\n",
    "import numpy as np\n",
    "import pandas as pd\n",
    "import os\n",
    "import cv2\n",
    "from sklearn.cluster import KMeans, MiniBatchKMeans\n",
    "from sklearn.decomposition import PCA\n",
    "import shutil"
   ]
  },
  {
   "cell_type": "markdown",
   "metadata": {
    "pycharm": {
     "name": "#%% md\n"
    }
   },
   "source": [
    "## Loading dataset\n",
    "\n",
    "We have received the dataset in the following form:\n",
    "\n",
    "     - 12 folders containing the data obtained with \"city\" label\n",
    "     - 4 folders containign the data obtained with \"fog\" label\n",
    "     - 26 folders containing the data obtained with \"junction\" label\n",
    "     - 4 folders containing the data obtained with \"motorway\" label\n",
    "     - 6 folders containing the data obtained with \"night\" label\n",
    "     - 4 folders containing the data obtained with \"rain\" label\n",
    "     - 2 folders containing the data obtained with \"rural\" label\n",
    "     - 1 folders containing the data obtained with \"snow\" label\n",
    "\n",
    "Using the radiate SDK, we visualised the LiDAR data of all these files available in png form in the Datasets folder.\n",
    "We now will proceed with loading and labeling the data as one large dataset for visualisation and clustering analysis."
   ]
  },
  {
   "cell_type": "code",
   "execution_count": 2,
   "metadata": {
    "ExecuteTime": {
     "end_time": "2022-05-31T10:57:45.126311Z",
     "start_time": "2022-05-31T10:57:45.112311Z"
    },
    "pycharm": {
     "name": "#%%\n"
    }
   },
   "outputs": [],
   "source": [
    "data_path = os.getcwd() + '\\Datasets'"
   ]
  },
  {
   "cell_type": "markdown",
   "metadata": {
    "pycharm": {
     "name": "#%% md\n"
    }
   },
   "source": [
    "the data set has the following size and count"
   ]
  },
  {
   "cell_type": "code",
   "execution_count": 15,
   "metadata": {
    "ExecuteTime": {
     "end_time": "2022-05-30T18:39:40.027419Z",
     "start_time": "2022-05-30T18:39:32.747420Z"
    },
    "pycharm": {
     "name": "#%%\n"
    }
   },
   "outputs": [
    {
     "ename": "NotADirectoryError",
     "evalue": "[WinError 267] The directory name is invalid: 'C:\\\\Users\\\\youss\\\\OneDrive\\\\Documents\\\\Education\\\\Thesis\\\\Coding\\\\Datasets\\\\city_1_0.csv'",
     "output_type": "error",
     "traceback": [
      "\u001B[1;31m---------------------------------------------------------------------------\u001B[0m",
      "\u001B[1;31mNotADirectoryError\u001B[0m                        Traceback (most recent call last)",
      "Input \u001B[1;32mIn [15]\u001B[0m, in \u001B[0;36m<module>\u001B[1;34m\u001B[0m\n\u001B[0;32m      3\u001B[0m \u001B[38;5;28;01mfor\u001B[39;00m filename \u001B[38;5;129;01min\u001B[39;00m os\u001B[38;5;241m.\u001B[39mlistdir(data_path):\n\u001B[0;32m      4\u001B[0m     f \u001B[38;5;241m=\u001B[39m os\u001B[38;5;241m.\u001B[39mpath\u001B[38;5;241m.\u001B[39mjoin(data_path, filename)\n\u001B[1;32m----> 5\u001B[0m     \u001B[38;5;28;01mfor\u001B[39;00m imagename \u001B[38;5;129;01min\u001B[39;00m \u001B[43mos\u001B[49m\u001B[38;5;241;43m.\u001B[39;49m\u001B[43mlistdir\u001B[49m\u001B[43m(\u001B[49m\u001B[43mf\u001B[49m\u001B[43m)\u001B[49m:\n\u001B[0;32m      6\u001B[0m         imfile \u001B[38;5;241m=\u001B[39m os\u001B[38;5;241m.\u001B[39mpath\u001B[38;5;241m.\u001B[39mjoin(f, imagename)\n\u001B[0;32m      7\u001B[0m         size \u001B[38;5;241m+\u001B[39m\u001B[38;5;241m=\u001B[39m os\u001B[38;5;241m.\u001B[39mpath\u001B[38;5;241m.\u001B[39mgetsize(imfile)\n",
      "\u001B[1;31mNotADirectoryError\u001B[0m: [WinError 267] The directory name is invalid: 'C:\\\\Users\\\\youss\\\\OneDrive\\\\Documents\\\\Education\\\\Thesis\\\\Coding\\\\Datasets\\\\city_1_0.csv'"
     ]
    }
   ],
   "source": [
    "count =0\n",
    "size = 0\n",
    "for filename in os.listdir(data_path):\n",
    "    f = os.path.join(data_path, filename)\n",
    "    for imagename in os.listdir(f):\n",
    "        imfile = os.path.join(f, imagename)\n",
    "        size += os.path.getsize(imfile)\n",
    "        count+=1\n",
    "print(count)\n",
    "print(size)"
   ]
  },
  {
   "cell_type": "code",
   "execution_count": 3,
   "metadata": {
    "ExecuteTime": {
     "end_time": "2022-05-31T10:57:47.275312Z",
     "start_time": "2022-05-31T10:57:47.261312Z"
    },
    "pycharm": {
     "name": "#%%\n"
    }
   },
   "outputs": [],
   "source": [
    "c_images = []\n",
    "f_images = []\n",
    "j_images = []\n",
    "m_images = []\n",
    "n_images = []\n",
    "ra_images = []\n",
    "ru_images = []\n",
    "s_images = []\n",
    "x =[]\n",
    "y=[]\n",
    "dim = (288, 288)"
   ]
  },
  {
   "cell_type": "code",
   "execution_count": 4,
   "metadata": {
    "ExecuteTime": {
     "end_time": "2022-05-31T11:14:38.498992Z",
     "start_time": "2022-05-31T10:57:48.325312Z"
    },
    "pycharm": {
     "is_executing": true,
     "name": "#%%\n"
    }
   },
   "outputs": [],
   "source": [
    "for filename in os.listdir(data_path):\n",
    "    f = os.path.join(data_path, filename)\n",
    "    if 'city' in f:\n",
    "        for imagename in os.listdir(f):\n",
    "            imfile = os.path.join(f, imagename)\n",
    "            image = cv2.imread(imfile)\n",
    "            resized = cv2.resize(image, dim, interpolation = cv2.INTER_AREA)\n",
    "            x.append(resized)\n",
    "            y.append('city')\n",
    "#             c_images.append([imagename,resized.flatten(),'city'])\n",
    "        break"
   ]
  },
  {
   "cell_type": "code",
   "execution_count": 5,
   "metadata": {
    "ExecuteTime": {
     "end_time": "2022-05-31T11:15:02.538737Z",
     "start_time": "2022-05-31T11:14:38.522992Z"
    },
    "pycharm": {
     "name": "#%%\n"
    }
   },
   "outputs": [],
   "source": [
    "for filename in os.listdir(data_path):\n",
    "    f = os.path.join(data_path, filename)\n",
    "    if 'fog' in f:\n",
    "        for imagename in os.listdir(f):\n",
    "            imfile = os.path.join(f, imagename)\n",
    "            image = cv2.imread(imfile)\n",
    "            resized = cv2.resize(image, dim, interpolation = cv2.INTER_AREA)\n",
    "            x.append(resized)\n",
    "            y.append('fog')\n",
    "#             f_images.append([imagename,resized.flatten(),'fog'])\n",
    "        break"
   ]
  },
  {
   "cell_type": "code",
   "execution_count": 6,
   "metadata": {
    "ExecuteTime": {
     "end_time": "2022-05-31T11:15:27.274428Z",
     "start_time": "2022-05-31T11:15:02.540778Z"
    },
    "pycharm": {
     "name": "#%%\n"
    }
   },
   "outputs": [],
   "source": [
    "for filename in os.listdir(data_path):\n",
    "    f = os.path.join(data_path, filename)\n",
    "    if 'junction' in f:\n",
    "        for imagename in os.listdir(f):\n",
    "            imfile = os.path.join(f, imagename)\n",
    "            image = cv2.imread(imfile)\n",
    "            resized = cv2.resize(image, dim, interpolation = cv2.INTER_AREA)\n",
    "            x.append(resized)\n",
    "            y.append('junction')\n",
    "#             j_images.append([imagename,resized.flatten(),'junction'])\n",
    "        break"
   ]
  },
  {
   "cell_type": "code",
   "execution_count": 7,
   "metadata": {
    "ExecuteTime": {
     "end_time": "2022-05-31T11:15:51.162419Z",
     "start_time": "2022-05-31T11:15:27.278412Z"
    },
    "pycharm": {
     "name": "#%%\n"
    }
   },
   "outputs": [],
   "source": [
    "for filename in os.listdir(data_path):\n",
    "    f = os.path.join(data_path, filename)\n",
    "    if 'motorway' in f:\n",
    "        for imagename in os.listdir(f):\n",
    "            imfile = os.path.join(f, imagename)\n",
    "            image = cv2.imread(imfile)\n",
    "            resized = cv2.resize(image, dim, interpolation = cv2.INTER_AREA)\n",
    "            x.append(resized)\n",
    "            y.append('motorway')\n",
    "#             m_images.append([imagename,resized.flatten(),'motorway'])\n",
    "        break"
   ]
  },
  {
   "cell_type": "code",
   "execution_count": 8,
   "metadata": {
    "ExecuteTime": {
     "end_time": "2022-05-31T11:16:15.143872Z",
     "start_time": "2022-05-31T11:15:51.164411Z"
    },
    "pycharm": {
     "name": "#%%\n"
    }
   },
   "outputs": [],
   "source": [
    "for filename in os.listdir(data_path):\n",
    "    f = os.path.join(data_path, filename)\n",
    "    if 'night' in f:\n",
    "        for imagename in os.listdir(f):\n",
    "            imfile = os.path.join(f, imagename)\n",
    "            image = cv2.imread(imfile)\n",
    "            resized = cv2.resize(image, dim, interpolation = cv2.INTER_AREA)\n",
    "            x.append(resized)\n",
    "            y.append('night')\n",
    "#             n_images.append([imagename,resized.flatten(),'night'])\n",
    "        break"
   ]
  },
  {
   "cell_type": "code",
   "execution_count": 9,
   "metadata": {
    "ExecuteTime": {
     "end_time": "2022-05-31T11:17:30.102918Z",
     "start_time": "2022-05-31T11:16:15.146851Z"
    },
    "pycharm": {
     "name": "#%%\n"
    }
   },
   "outputs": [],
   "source": [
    "for filename in os.listdir(data_path):\n",
    "    f = os.path.join(data_path, filename)\n",
    "    if 'rain' in f:\n",
    "        for imagename in os.listdir(f):\n",
    "            imfile = os.path.join(f, imagename)\n",
    "            image = cv2.imread(imfile)\n",
    "            resized = cv2.resize(image, dim, interpolation = cv2.INTER_AREA)\n",
    "            x.append(resized)\n",
    "            y.append('rain')\n",
    "#             ra_images.append([imagename,resized.flatten(),'rain'])\n",
    "        break"
   ]
  },
  {
   "cell_type": "code",
   "execution_count": 10,
   "metadata": {
    "ExecuteTime": {
     "end_time": "2022-05-31T11:17:54.220950Z",
     "start_time": "2022-05-31T11:17:30.104893Z"
    },
    "pycharm": {
     "name": "#%%\n"
    }
   },
   "outputs": [],
   "source": [
    "for filename in os.listdir(data_path):\n",
    "    f = os.path.join(data_path, filename)\n",
    "    if 'rural' in f:\n",
    "        for imagename in os.listdir(f):\n",
    "            imfile = os.path.join(f, imagename)\n",
    "            image = cv2.imread(imfile)\n",
    "            resized = cv2.resize(image, dim, interpolation = cv2.INTER_AREA)\n",
    "            x.append(resized)\n",
    "            y.append('rural')\n",
    "#             ru_images.append([imagename,resized.flatten(),'rural'])\n",
    "        break"
   ]
  },
  {
   "cell_type": "code",
   "execution_count": 11,
   "metadata": {
    "ExecuteTime": {
     "end_time": "2022-05-31T11:18:17.509898Z",
     "start_time": "2022-05-31T11:17:54.223919Z"
    },
    "pycharm": {
     "name": "#%%\n"
    }
   },
   "outputs": [],
   "source": [
    "for filename in os.listdir(data_path):\n",
    "    f = os.path.join(data_path, filename)\n",
    "    if 'snow' in f:\n",
    "        for imagename in os.listdir(f):\n",
    "            imfile = os.path.join(f, imagename)\n",
    "            image = cv2.imread(imfile)\n",
    "            resized = cv2.resize(image, dim, interpolation = cv2.INTER_AREA)\n",
    "            x.append(resized)\n",
    "            y.append('snow')\n",
    "#             s_images.append([imagename,np.array(resized.flatten()),'snow'])\n",
    "        break"
   ]
  },
  {
   "cell_type": "code",
   "execution_count": null,
   "metadata": {
    "ExecuteTime": {
     "end_time": "2022-05-31T10:55:27.610936Z",
     "start_time": "2022-05-31T10:55:27.610936Z"
    },
    "pycharm": {
     "name": "#%%\n"
    }
   },
   "outputs": [],
   "source": [
    "complete = np.concatenate((c_images, f_images,j_images,m_images,n_images ,ra_images,ru_images,s_images), axis=0)"
   ]
  },
  {
   "cell_type": "code",
   "execution_count": null,
   "metadata": {
    "pycharm": {
     "name": "#%%\n"
    }
   },
   "outputs": [],
   "source": [
    "x = np.concatenate((c_images[:,1], f_images[:,1],j_images[:,1],m_images[:,1],n_images[:,1] ,ra_images[:,1],ru_images[:,1],s_images[:,1]), axis=0)\n",
    "y = np.concatenate((c_images[:,2], f_images[:,2],j_images[:,2],m_images[:,2],n_images[:,2] ,ra_images[:,2],ru_images[:,2],s_images[:,1]), axis=0)"
   ]
  },
  {
   "cell_type": "code",
   "execution_count": 15,
   "metadata": {
    "ExecuteTime": {
     "end_time": "2022-05-31T10:09:24.980700Z",
     "start_time": "2022-05-31T10:09:24.501626Z"
    },
    "collapsed": true,
    "pycharm": {
     "is_executing": true,
     "name": "#%%\n"
    }
   },
   "outputs": [
    {
     "name": "stderr",
     "output_type": "stream",
     "text": [
      "<__array_function__ internals>:180: VisibleDeprecationWarning: Creating an ndarray from ragged nested sequences (which is a list-or-tuple of lists-or-tuples-or ndarrays with different lengths or shapes) is deprecated. If you meant to do this, you must specify 'dtype=object' when creating the ndarray.\n"
     ]
    },
    {
     "data": {
      "text/html": [
       "<div>\n",
       "<style scoped>\n",
       "    .dataframe tbody tr th:only-of-type {\n",
       "        vertical-align: middle;\n",
       "    }\n",
       "\n",
       "    .dataframe tbody tr th {\n",
       "        vertical-align: top;\n",
       "    }\n",
       "\n",
       "    .dataframe thead th {\n",
       "        text-align: right;\n",
       "    }\n",
       "</style>\n",
       "<table border=\"1\" class=\"dataframe\">\n",
       "  <thead>\n",
       "    <tr style=\"text-align: right;\">\n",
       "      <th></th>\n",
       "      <th>name</th>\n",
       "      <th>image</th>\n",
       "      <th>label</th>\n",
       "    </tr>\n",
       "  </thead>\n",
       "  <tbody>\n",
       "    <tr>\n",
       "      <th>0</th>\n",
       "      <td>1549985634.040611.png</td>\n",
       "      <td>[0, 0, 0, 0, 0, 0, 0, 0, 0, 0, 0, 0, 0, 0, 0, ...</td>\n",
       "      <td>city</td>\n",
       "    </tr>\n",
       "    <tr>\n",
       "      <th>1</th>\n",
       "      <td>1549985634.041611.png</td>\n",
       "      <td>[0, 0, 0, 0, 0, 0, 0, 0, 0, 0, 0, 0, 0, 0, 0, ...</td>\n",
       "      <td>city</td>\n",
       "    </tr>\n",
       "    <tr>\n",
       "      <th>2</th>\n",
       "      <td>1549985634.042611.png</td>\n",
       "      <td>[0, 0, 0, 0, 0, 0, 0, 0, 0, 0, 0, 0, 0, 0, 0, ...</td>\n",
       "      <td>city</td>\n",
       "    </tr>\n",
       "    <tr>\n",
       "      <th>3</th>\n",
       "      <td>1549985634.0436108.png</td>\n",
       "      <td>[0, 0, 0, 0, 0, 0, 0, 0, 0, 0, 0, 0, 0, 0, 0, ...</td>\n",
       "      <td>city</td>\n",
       "    </tr>\n",
       "    <tr>\n",
       "      <th>4</th>\n",
       "      <td>1549985634.0446107.png</td>\n",
       "      <td>[0, 0, 0, 0, 0, 0, 0, 0, 0, 0, 0, 0, 0, 0, 0, ...</td>\n",
       "      <td>city</td>\n",
       "    </tr>\n",
       "    <tr>\n",
       "      <th>...</th>\n",
       "      <td>...</td>\n",
       "      <td>...</td>\n",
       "      <td>...</td>\n",
       "    </tr>\n",
       "    <tr>\n",
       "      <th>90097</th>\n",
       "      <td>1581347050.150518.png</td>\n",
       "      <td>[0, 0, 0, 0, 0, 0, 0, 0, 0, 0, 0, 0, 0, 0, 0, ...</td>\n",
       "      <td>snow</td>\n",
       "    </tr>\n",
       "    <tr>\n",
       "      <th>90098</th>\n",
       "      <td>1581347050.2505178.png</td>\n",
       "      <td>[0, 0, 0, 0, 0, 0, 0, 0, 0, 0, 0, 0, 0, 0, 0, ...</td>\n",
       "      <td>snow</td>\n",
       "    </tr>\n",
       "    <tr>\n",
       "      <th>90099</th>\n",
       "      <td>1581347050.3505177.png</td>\n",
       "      <td>[0, 0, 0, 0, 0, 0, 0, 0, 0, 0, 0, 0, 0, 0, 0, ...</td>\n",
       "      <td>snow</td>\n",
       "    </tr>\n",
       "    <tr>\n",
       "      <th>90100</th>\n",
       "      <td>1581347050.4505177.png</td>\n",
       "      <td>[0, 0, 0, 0, 0, 0, 0, 0, 0, 0, 0, 0, 0, 0, 0, ...</td>\n",
       "      <td>snow</td>\n",
       "    </tr>\n",
       "    <tr>\n",
       "      <th>90101</th>\n",
       "      <td>1581347050.5505176.png</td>\n",
       "      <td>[0, 0, 0, 0, 0, 0, 0, 0, 0, 0, 0, 0, 0, 0, 0, ...</td>\n",
       "      <td>snow</td>\n",
       "    </tr>\n",
       "  </tbody>\n",
       "</table>\n",
       "<p>90102 rows × 3 columns</p>\n",
       "</div>"
      ],
      "text/plain": [
       "                         name  \\\n",
       "0       1549985634.040611.png   \n",
       "1       1549985634.041611.png   \n",
       "2       1549985634.042611.png   \n",
       "3      1549985634.0436108.png   \n",
       "4      1549985634.0446107.png   \n",
       "...                       ...   \n",
       "90097   1581347050.150518.png   \n",
       "90098  1581347050.2505178.png   \n",
       "90099  1581347050.3505177.png   \n",
       "90100  1581347050.4505177.png   \n",
       "90101  1581347050.5505176.png   \n",
       "\n",
       "                                                   image label  \n",
       "0      [0, 0, 0, 0, 0, 0, 0, 0, 0, 0, 0, 0, 0, 0, 0, ...  city  \n",
       "1      [0, 0, 0, 0, 0, 0, 0, 0, 0, 0, 0, 0, 0, 0, 0, ...  city  \n",
       "2      [0, 0, 0, 0, 0, 0, 0, 0, 0, 0, 0, 0, 0, 0, 0, ...  city  \n",
       "3      [0, 0, 0, 0, 0, 0, 0, 0, 0, 0, 0, 0, 0, 0, 0, ...  city  \n",
       "4      [0, 0, 0, 0, 0, 0, 0, 0, 0, 0, 0, 0, 0, 0, 0, ...  city  \n",
       "...                                                  ...   ...  \n",
       "90097  [0, 0, 0, 0, 0, 0, 0, 0, 0, 0, 0, 0, 0, 0, 0, ...  snow  \n",
       "90098  [0, 0, 0, 0, 0, 0, 0, 0, 0, 0, 0, 0, 0, 0, 0, ...  snow  \n",
       "90099  [0, 0, 0, 0, 0, 0, 0, 0, 0, 0, 0, 0, 0, 0, 0, ...  snow  \n",
       "90100  [0, 0, 0, 0, 0, 0, 0, 0, 0, 0, 0, 0, 0, 0, 0, ...  snow  \n",
       "90101  [0, 0, 0, 0, 0, 0, 0, 0, 0, 0, 0, 0, 0, 0, 0, ...  snow  \n",
       "\n",
       "[90102 rows x 3 columns]"
      ]
     },
     "execution_count": 15,
     "metadata": {},
     "output_type": "execute_result"
    }
   ],
   "source": [
    "df = pd.DataFrame(complete,columns=['name','image','label'])\n",
    "df\n"
   ]
  }
 ],
 "metadata": {
  "kernelspec": {
   "display_name": "Python 3 (ipykernel)",
   "language": "python",
   "name": "python3"
  },
  "language_info": {
   "codemirror_mode": {
    "name": "ipython",
    "version": 3
   },
   "file_extension": ".py",
   "mimetype": "text/x-python",
   "name": "python",
   "nbconvert_exporter": "python",
   "pygments_lexer": "ipython3",
   "version": "3.9.10"
  },
  "toc": {
   "base_numbering": 1,
   "nav_menu": {},
   "number_sections": true,
   "sideBar": true,
   "skip_h1_title": false,
   "title_cell": "Table of Contents",
   "title_sidebar": "Contents",
   "toc_cell": false,
   "toc_position": {},
   "toc_section_display": true,
   "toc_window_display": false
  }
 },
 "nbformat": 4,
 "nbformat_minor": 1
}