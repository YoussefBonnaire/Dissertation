{
 "cells": [
  {
   "cell_type": "markdown",
   "source": [
    "# Pre-Processing"
   ],
   "metadata": {
    "collapsed": false,
    "pycharm": {
     "name": "#%% md\n"
    }
   }
  },
  {
   "cell_type": "markdown",
   "source": [
    "**Note** the image processing was done directly using the Lidar visualisation function within the radiate SDK available [here](https://githubmarcelsheeny/radiate_sdk)"
   ],
   "metadata": {
    "collapsed": false,
    "pycharm": {
     "name": "#%% md\n"
    }
   }
  },
  {
   "cell_type": "markdown",
   "source": [
    "## Gathering and selecting data\n",
    "\n",
    "We started by gathering the csv data required and selecting 4000 files at random with a balanced label distribution."
   ],
   "metadata": {
    "collapsed": false,
    "pycharm": {
     "name": "#%% md\n"
    }
   }
  },
  {
   "cell_type": "code",
   "execution_count": 3,
   "metadata": {
    "collapsed": true,
    "pycharm": {
     "name": "#%%\n"
    }
   },
   "outputs": [],
   "source": [
    "import os\n",
    "import numpy as np\n",
    "import pandas as pd\n",
    "import matplotlib.pyplot as plt\n",
    "from mpl_toolkits.mplot3d import Axes3D\n",
    "from sklearn.cluster import KMeans\n",
    "import time"
   ]
  },
  {
   "cell_type": "code",
   "execution_count": null,
   "outputs": [],
   "source": [
    "%%time\n",
    "data = []\n",
    "y = []\n",
    "data_path = os.getcwd()[:-15] + 'assets\\dataset_csv' # dataset not included due to size restriction\n",
    "for filename in os.listdir(data_path):\n",
    "    f = os.path.join(data_path, filename) # find all folders\n",
    "    for velofile in os.listdir(f):\n",
    "        files = os.path.join(f,velofile) # find the LiDAR file in each folder\n",
    "        for csvname in os.listdir(files):\n",
    "            a = np.genfromtxt(os.path.join(files,csvname), delimiter=',') # retrieve CSV data\n",
    "            data.append(a)\n",
    "            y.append(filename) # keep label name for possible classification purposes\n",
    "data = np.array(data)"
   ],
   "metadata": {
    "collapsed": false,
    "pycharm": {
     "name": "#%%\n"
    }
   }
  },
  {
   "cell_type": "code",
   "execution_count": 3,
   "outputs": [],
   "source": [
    "y = np.array(y)"
   ],
   "metadata": {
    "collapsed": false,
    "pycharm": {
     "name": "#%%\n"
    }
   }
  },
  {
   "cell_type": "code",
   "execution_count": null,
   "outputs": [],
   "source": [
    "city = y[y == 'city']\n",
    "junction = y[y == 'junction']\n",
    "fog = y[y == 'fog']\n",
    "night = y[y == 'night']\n",
    "rain = y[y == 'rain']\n",
    "motorway = y[y == 'motorway']\n",
    "snow = y[y == 'snow']\n",
    "rural = y[y == 'rural']\n",
    "\n",
    "# retrieve index of chosen instances\n",
    "city_indeces = np.random.choice(city.shape[0],size=500,replace=False)\n",
    "fog_indeces = np.random.choice(fog.shape[0],size=500,replace=False) + city.shape[0]\n",
    "junction_indeces = np.random.choice(junction.shape[0],size=500,replace=False)+ city.shape[0]+ fog.shape[0]\n",
    "motorway_indeces = np.random.choice(motorway.shape[0],size=500,replace=False)+ city.shape[0]+ junction.shape[0]+ fog.shape[0]\n",
    "night_indeces = np.random.choice(night.shape[0],size=500,replace=False)+ city.shape[0]+ junction.shape[0]+ fog.shape[0]+ motorway.shape[0]\n",
    "rain_indeces = np.random.choice(rain.shape[0],size=500,replace=False)+ city.shape[0]+ junction.shape[0]+ fog.shape[0]+ motorway.shape[0]+ night.shape[0]\n",
    "rural_indeces = np.random.choice(rural.shape[0],size=500,replace=False)+ city.shape[0]+ junction.shape[0]+ fog.shape[0]+ motorway.shape[0]+ night.shape[0]+ rain.shape[0]\n",
    "snow_indeces = np.random.choice(snow.shape[0],size=500,replace=False)+ city.shape[0]+ junction.shape[0]+ fog.shape[0]+ motorway.shape[0]+ night.shape[0]+ rain.shape[0]+ rural.shape[0]\n",
    "indeces = np.concatenate((city_indeces,fog_indeces,junction_indeces,motorway_indeces,night_indeces,rain_indeces,rural_indeces,snow_indeces))"
   ],
   "metadata": {
    "collapsed": false,
    "pycharm": {
     "name": "#%%\n"
    }
   }
  },
  {
   "cell_type": "code",
   "execution_count": null,
   "outputs": [],
   "source": [
    "reduced_dataset = data[indeces]\n",
    "reduced_y = np.array([['city']*500,['fog']*500,['junction']*500,['motorway']*500,['night']*500,['rain']*500,['rural']*500, ['snow']*500]).flatten()"
   ],
   "metadata": {
    "collapsed": false,
    "pycharm": {
     "name": "#%%\n"
    }
   }
  },
  {
   "cell_type": "code",
   "execution_count": null,
   "outputs": [],
   "source": [
    "np.savez('./assets/clustered_data/4000_csv.npz', reduced_dataset,reduced_y) # Save new smaller dataset"
   ],
   "metadata": {
    "collapsed": false,
    "pycharm": {
     "name": "#%%\n"
    }
   }
  },
  {
   "cell_type": "markdown",
   "source": [
    "## Clustering"
   ],
   "metadata": {
    "collapsed": false,
    "pycharm": {
     "name": "#%% md\n"
    }
   }
  },
  {
   "cell_type": "markdown",
   "source": [
    "Our first naive attempt at transforming this data of varying shapes into neural network digestible code was by clustering the N points of each scan into 4000 points each  using Kmeans clustering"
   ],
   "metadata": {
    "collapsed": false,
    "pycharm": {
     "name": "#%% md\n"
    }
   }
  },
  {
   "cell_type": "code",
   "execution_count": null,
   "outputs": [],
   "source": [
    "%%time\n",
    "Clustered_x = []\n",
    "count = 0\n",
    "for x in reduced_dataset:\n",
    "    st = time.time()\n",
    "    # Perform clustering\n",
    "    kmeans = KMeans(n_clusters=4000, random_state=0).fit(x[:,:-1])\n",
    "    centroids = kmeans.cluster_centers_\n",
    "    Clustered_x.append(centroids)\n",
    "    et = time.time()\n",
    "    # get the execution time\n",
    "    elapsed_time = et - st\n",
    "    print('Execution time for lidar ', count ,': ', elapsed_time, 'seconds')\n",
    "    count+=1"
   ],
   "metadata": {
    "collapsed": false,
    "pycharm": {
     "name": "#%%\n"
    }
   }
  },
  {
   "cell_type": "code",
   "execution_count": null,
   "outputs": [],
   "source": [
    "Clustered_x[0].shape # New shape of one Lidar scan"
   ],
   "metadata": {
    "collapsed": false,
    "pycharm": {
     "name": "#%%\n"
    }
   }
  },
  {
   "cell_type": "code",
   "execution_count": null,
   "outputs": [],
   "source": [
    "np.savez('./assets/clustered_data/small_Lidar.npz', Clustered_x)"
   ],
   "metadata": {
    "collapsed": false,
    "pycharm": {
     "name": "#%%\n"
    }
   }
  },
  {
   "cell_type": "code",
   "execution_count": 4,
   "outputs": [],
   "source": [
    "Clustered_x = np.load('./assets/clustered_data/small_Lidar.npz',allow_pickle=True)['arr_0']\n",
    "reduced_dataset = np.load('./assets/clustered_data/4000_csv.npz',allow_pickle=True)['arr_0']"
   ],
   "metadata": {
    "collapsed": false,
    "pycharm": {
     "name": "#%%\n"
    }
   }
  },
  {
   "cell_type": "code",
   "execution_count": 7,
   "outputs": [
    {
     "name": "stderr",
     "output_type": "stream",
     "text": [
      "C:\\Users\\youss\\AppData\\Local\\Temp\\ipykernel_13828\\2967742344.py:2: MatplotlibDeprecationWarning: Axes3D(fig) adding itself to the figure is deprecated since 3.4. Pass the keyword argument auto_add_to_figure=False and use fig.add_axes(ax) to suppress this warning. The default value of auto_add_to_figure will change to False in mpl3.5 and True values will no longer work in 3.6.  This is consistent with other Axes classes.\n",
      "  ax = Axes3D(fig)\n"
     ]
    },
    {
     "data": {
      "text/plain": "<Figure size 432x288 with 1 Axes>",
      "image/png": "[encoded data removed]"
     },
     "metadata": {
      "needs_background": "light"
     },
     "output_type": "display_data"
    }
   ],
   "source": [
    "fig = plt.figure()\n",
    "ax = Axes3D(fig)\n",
    "ax.scatter(reduced_dataset[0][:,0], reduced_dataset[0][:,1], reduced_dataset[0][:,2], s=2)\n",
    "ax.view_init(azim=200)\n",
    "plt.savefig('assets/pre-cluster.png')\n",
    "plt.show()"
   ],
   "metadata": {
    "collapsed": false,
    "pycharm": {
     "name": "#%%\n"
    }
   }
  },
  {
   "cell_type": "code",
   "execution_count": 8,
   "outputs": [
    {
     "name": "stderr",
     "output_type": "stream",
     "text": [
      "C:\\Users\\youss\\AppData\\Local\\Temp\\ipykernel_13828\\3447939594.py:2: MatplotlibDeprecationWarning: Axes3D(fig) adding itself to the figure is deprecated since 3.4. Pass the keyword argument auto_add_to_figure=False and use fig.add_axes(ax) to suppress this warning. The default value of auto_add_to_figure will change to False in mpl3.5 and True values will no longer work in 3.6.  This is consistent with other Axes classes.\n",
      "  ax = Axes3D(fig)\n"
     ]
    },
    {
     "data": {
      "text/plain": "<Figure size 432x288 with 1 Axes>",
      "image/png": "[encoded data removed]"
     },
     "metadata": {
      "needs_background": "light"
     },
     "output_type": "display_data"
    }
   ],
   "source": [
    "fig = plt.figure()\n",
    "ax = Axes3D(fig)\n",
    "ax.scatter(Clustered_x[2][:,0], Clustered_x[2][:,1], Clustered_x[2][:,2], s=2)\n",
    "ax.view_init(azim=200)\n",
    "plt.savefig('assets/clustered.png')\n",
    "plt.show()"
   ],
   "metadata": {
    "collapsed": false,
    "pycharm": {
     "name": "#%%\n"
    }
   }
  },
  {
   "cell_type": "markdown",
   "source": [
    "## Gathering Polar Coordinates"
   ],
   "metadata": {
    "collapsed": false,
    "pycharm": {
     "name": "#%% md\n"
    }
   }
  },
  {
   "cell_type": "markdown",
   "source": [
    "First we need to get the distance, elevation and azimuth angle for each point for each scan."
   ],
   "metadata": {
    "collapsed": false,
    "pycharm": {
     "name": "#%% md\n"
    }
   }
  },
  {
   "cell_type": "code",
   "execution_count": null,
   "outputs": [],
   "source": [
    "def calc_phi(x,y):\n",
    "    return np.arctan2(y,x)\n",
    "def calc_theta(x,y,z):\n",
    "    return np.arccos(z/np.sqrt(x**2 + y**2 + z**2))\n",
    "def calc_d(x,y,z):\n",
    "    return np.sqrt(x**2+y**2+z**2)"
   ],
   "metadata": {
    "collapsed": false,
    "pycharm": {
     "name": "#%%\n"
    }
   }
  },
  {
   "cell_type": "code",
   "execution_count": null,
   "outputs": [],
   "source": [
    "data =np.load('./assets/clustered_data/4000_csv.npz', allow_pickle=True)['arr_0']"
   ],
   "metadata": {
    "collapsed": false,
    "pycharm": {
     "name": "#%%\n"
    }
   }
  },
  {
   "cell_type": "code",
   "execution_count": null,
   "outputs": [],
   "source": [
    "data = np.array([np.array(data[i][:,:3]) for i in range(data.shape[0])]) # Remove reflectivity and channel from data"
   ],
   "metadata": {
    "collapsed": false,
    "pycharm": {
     "name": "#%%\n"
    }
   }
  },
  {
   "cell_type": "code",
   "execution_count": null,
   "outputs": [],
   "source": [
    "%%time\n",
    "Polar_coords = []\n",
    "for scan in data:\n",
    "    scan_2d = []\n",
    "    # Calculate polar coords\n",
    "    for point in scan:\n",
    "        phi = calc_phi(point[0],point[1])\n",
    "        theta = calc_theta(point[0],point[1],point[2])\n",
    "        d = calc_d(point[0],point[1],point[2])\n",
    "        scan_2d.append(np.array([theta,phi,d]))\n",
    "        # add to list\n",
    "    Polar_coords.append(np.array(scan_2d))\n",
    "Polar_coords = np.array(Polar_coords)"
   ],
   "metadata": {
    "collapsed": false,
    "pycharm": {
     "name": "#%%\n"
    }
   }
  },
  {
   "cell_type": "code",
   "execution_count": null,
   "outputs": [],
   "source": [
    "np.savez('./assets/clustered_data/az_elv_angles_distance3.npz', Polar_coords)"
   ],
   "metadata": {
    "collapsed": false,
    "pycharm": {
     "name": "#%%\n"
    }
   }
  },
  {
   "cell_type": "markdown",
   "source": [
    "This image below shows all the angles where a point is visible"
   ],
   "metadata": {
    "collapsed": false,
    "pycharm": {
     "name": "#%% md\n"
    }
   }
  },
  {
   "cell_type": "code",
   "execution_count": null,
   "outputs": [],
   "source": [
    "plt.scatter(Polar_coords[0][:,0],Polar_coords[0][:,1],s=0.1)\n",
    "plt.show()"
   ],
   "metadata": {
    "collapsed": false,
    "pycharm": {
     "name": "#%%\n"
    }
   }
  },
  {
   "cell_type": "markdown",
   "source": [
    "With the polar coordinates we can now begin the binning process"
   ],
   "metadata": {
    "collapsed": false,
    "pycharm": {
     "name": "#%% md\n"
    }
   }
  },
  {
   "cell_type": "markdown",
   "source": [
    "## Final pre-processing step"
   ],
   "metadata": {
    "collapsed": false,
    "pycharm": {
     "name": "#%% md\n"
    }
   }
  },
  {
   "cell_type": "markdown",
   "source": [
    "**Naive binning**\n",
    "Our first method for binning the data was very resource and time expensive as it used unoptimised for loops visible herebelow"
   ],
   "metadata": {
    "collapsed": false,
    "pycharm": {
     "name": "#%% md\n"
    }
   }
  },
  {
   "cell_type": "code",
   "execution_count": null,
   "outputs": [],
   "source": [
    "theta_min, theta_max = 1.3, 2.2\n",
    "nb_bin_theta = 80\n",
    "phi_min, phi_max = -np.pi, np.pi\n",
    "nb_bin_phi = 640\n",
    "theta_scale = np.linspace(theta_min, theta_max,80) # create binning range\n",
    "phi_scale = np.linspace(phi_min, phi_max,640) # create binning range"
   ],
   "metadata": {
    "collapsed": false,
    "pycharm": {
     "name": "#%%\n"
    }
   }
  },
  {
   "cell_type": "code",
   "execution_count": null,
   "outputs": [],
   "source": [
    "new_2d_scans = np.zeros((Polar_coords.shape[0],80,640,2))"
   ],
   "metadata": {
    "collapsed": false,
    "pycharm": {
     "name": "#%%\n"
    }
   }
  },
  {
   "cell_type": "code",
   "execution_count": null,
   "outputs": [],
   "source": [
    "%%time\n",
    "for k in range(Polar_coords.shape[0]):\n",
    "    st = time.time()\n",
    "    chosen_scan_z = data[k][:,2]\n",
    "    chosen_scan = Polar_coords[k]\n",
    "    current_theta = theta_scale[0]\n",
    "    current_phi = phi_scale[0]\n",
    "    for i in range(1,640):\n",
    "        for j in range(1,80):\n",
    "            # Select points in theta and phi bin range\n",
    "            idx = np.where((chosen_scan[:,0] > current_theta) & (chosen_scan[:,0] < theta_scale[j]) & (chosen_scan[:,1] > current_phi) & (chosen_scan[:,1] <phi_scale[i]))\n",
    "            if idx[0].size != 0:\n",
    "                # Get avg z and d for the selected points\n",
    "                new_z = np.average(chosen_scan_z[idx[0]])\n",
    "                new_d =np.average(chosen_scan[[idx[0]],2])\n",
    "                # Add points to 2d mapping based on theta and phi bins\n",
    "                new_2d_scans[k][j-1][i-1] = np.array([new_d,new_z])\n",
    "            else:\n",
    "                new_2d_scans[k][j-1][i-1] = np.array([0,0])\n",
    "            current_theta = theta_scale[j]\n",
    "        current_phi = phi_scale[i]\n",
    "    et = time.time()\n",
    "    elapsed_time = et - st\n",
    "    print('Executing Image ', k ,'/4000: ', elapsed_time, 'seconds')"
   ],
   "metadata": {
    "collapsed": false,
    "pycharm": {
     "name": "#%%\n"
    }
   }
  },
  {
   "cell_type": "markdown",
   "source": [
    "On average, each image took around 9 seconds to complete meaning the total run time of this code with 4000 instances was 10 hours"
   ],
   "metadata": {
    "collapsed": false,
    "pycharm": {
     "name": "#%% md\n"
    }
   }
  },
  {
   "cell_type": "code",
   "execution_count": null,
   "outputs": [],
   "source": [
    "fig = plt.figure()\n",
    "ax = fig.add_subplot(111)\n",
    "\n",
    "ax.imshow(new_2d_scans[0][:,:,0], cmap='gray')\n",
    "ax.set_aspect(5)\n",
    "\n",
    "plt.show()"
   ],
   "metadata": {
    "collapsed": false,
    "pycharm": {
     "name": "#%%\n"
    }
   }
  },
  {
   "cell_type": "code",
   "execution_count": null,
   "outputs": [],
   "source": [
    "new_2d_scans.shape"
   ],
   "metadata": {
    "collapsed": false,
    "pycharm": {
     "name": "#%%\n"
    }
   }
  },
  {
   "cell_type": "code",
   "execution_count": null,
   "outputs": [],
   "source": [
    "np.savez('./assets/2d_complete_data.npz', new_2d_scans)"
   ],
   "metadata": {
    "collapsed": false,
    "pycharm": {
     "name": "#%%\n"
    }
   }
  },
  {
   "cell_type": "markdown",
   "source": [
    "With the polar notation of our data now calculated, we needed a way to go back to the original 3d point cloud and developed the following code"
   ],
   "metadata": {
    "collapsed": false,
    "pycharm": {
     "name": "#%% md\n"
    }
   }
  },
  {
   "cell_type": "code",
   "execution_count": null,
   "outputs": [],
   "source": [
    "scan_3d = []\n",
    "\n",
    "current_phi = phi_scale[0]\n",
    "current_theta = theta_scale[0]\n",
    "for i in range(1,80):\n",
    "    for j in range(1,640):\n",
    "        if not np.array_equal(new_2d_scans[0][i][j], np.array([0,0])):\n",
    "            # get phi and theta for current bin\n",
    "            avg_phi = (current_phi+ phi_scale[j])/2\n",
    "            avg_theta = (current_theta+ theta_scale[i])/2\n",
    "\n",
    "            radius = new_2d_scans[0][i][j][0]\n",
    "            # retrieve xyz coords using d, phi and theta\n",
    "            x = radius * np.cos(avg_phi) * np.sin(avg_theta)\n",
    "            y = radius * np.sin(avg_phi) * np.sin(avg_theta)\n",
    "            z = radius * np.cos(avg_theta)\n",
    "            scan_3d.append([x,y,z])\n",
    "        current_phi = phi_scale[j]\n",
    "    current_theta = theta_scale[i]\n",
    "scan_3d = np.array(scan_3d)"
   ],
   "metadata": {
    "collapsed": false,
    "pycharm": {
     "name": "#%%\n"
    }
   }
  },
  {
   "cell_type": "code",
   "execution_count": null,
   "outputs": [],
   "source": [
    "fig = plt.figure()\n",
    "ax = Axes3D(fig)\n",
    "ax.scatter(scan_3d[:,0], scan_3d[:,1], scan_3d[:,2], s=2)\n",
    "plt.show()"
   ],
   "metadata": {
    "collapsed": false,
    "pycharm": {
     "name": "#%%\n"
    }
   }
  },
  {
   "cell_type": "code",
   "execution_count": null,
   "outputs": [],
   "source": [
    "fig = plt.figure()\n",
    "ax = Axes3D(fig)\n",
    "ax.scatter(data[0][:,0], data[0][:,1], data[0][:,2], s=2)\n",
    "plt.show()"
   ],
   "metadata": {
    "collapsed": false,
    "pycharm": {
     "name": "#%%\n"
    }
   }
  },
  {
   "cell_type": "markdown",
   "source": [
    "**Efficient Binning**"
   ],
   "metadata": {
    "collapsed": false,
    "pycharm": {
     "name": "#%% md\n"
    }
   }
  },
  {
   "cell_type": "markdown",
   "source": [
    "Here is the efficient binning code used to gather the 3d cartesian notation in this case but which can easily be amended by changing the output."
   ],
   "metadata": {
    "collapsed": false,
    "pycharm": {
     "name": "#%% md\n"
    }
   }
  },
  {
   "cell_type": "code",
   "execution_count": null,
   "outputs": [],
   "source": [
    "%%time\n",
    "\n",
    "full_output = []\n",
    "\n",
    "for m in range(Polar_coords.shape[0]):\n",
    "    ts0 = time.time_ns()/10e8\n",
    "    # Compute the bin to which each theta value belongs\n",
    "    theta_idx = np.digitize(Polar_coords[m][:,0], theta_scale, right=False)\n",
    "    # Get bin indices and  mapping to each index\n",
    "    theta_bin_idx, theta_bin_inv = np.unique(theta_idx, return_inverse=True)\n",
    "    ## Do the same with phi\n",
    "    phi_idx = np.digitize(Polar_coords[m][:,1], phi_scale, right=False)\n",
    "    phi_bin_idx, phi_bin_inv = np.unique(phi_idx, return_inverse=True)\n",
    "\n",
    "    # get output data, attempt 2: d,z, attempt 3: d, attempt 4: xyz\n",
    "    flat_data = Polar_coords[m][:,2]\n",
    "\n",
    "    # Initialize the output\n",
    "    output = np.zeros((nb_bin_theta, nb_bin_phi, 1), dtype=float) # (bin_theta, bin_phi, output data)\n",
    "\n",
    "    # Iterate over the bins that contain at least one value\n",
    "    for i, i_theta in enumerate(theta_bin_idx):\n",
    "        for j, j_phi in enumerate(phi_bin_idx):\n",
    "            # get the (flattened) data indices such that both theta and phi\n",
    "            # belong to the corresponding theta and phi bins\n",
    "            bin_idx, = np.nonzero(np.logical_and(\n",
    "                theta_bin_inv == i, phi_bin_inv == j))\n",
    "            if bin_idx.size > 0: # if the retrieved array of data indices is not empty\n",
    "                # compute the average\n",
    "                output[i_theta, j_phi] = np.average(\n",
    "                    flat_data[bin_idx], axis=0)\n",
    "                # if bin_idx were to be empty, taking the average would return a nan!\n",
    "    full_output.append(output)\n",
    "    ts1 = time.time_ns()/10e8\n",
    "    print('Executing Image ', m ,'/4000: ', ts1-ts0, 'seconds')"
   ],
   "metadata": {
    "collapsed": false,
    "pycharm": {
     "name": "#%%\n"
    }
   }
  },
  {
   "cell_type": "markdown",
   "source": [],
   "metadata": {
    "collapsed": false,
    "pycharm": {
     "name": "#%% md\n"
    }
   }
  }
 ],
 "metadata": {
  "kernelspec": {
   "display_name": "Python 3",
   "language": "python",
   "name": "python3"
  },
  "language_info": {
   "codemirror_mode": {
    "name": "ipython",
    "version": 2
   },
   "file_extension": ".py",
   "mimetype": "text/x-python",
   "name": "python",
   "nbconvert_exporter": "python",
   "pygments_lexer": "ipython2",
   "version": "2.7.6"
  }
 },
 "nbformat": 4,
 "nbformat_minor": 0
}